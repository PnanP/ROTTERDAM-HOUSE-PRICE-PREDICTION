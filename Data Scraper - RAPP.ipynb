{
 "cells": [
  {
   "cell_type": "code",
   "execution_count": 1,
   "metadata": {},
   "outputs": [],
   "source": [
    "import pandas as pd\n",
    "import itertools \n",
    "from bs4 import BeautifulSoup\n",
    "import requests\n",
    "from requests import get\n",
    "import time\n",
    "from random import seed\n",
    "from random import random\n",
    "from random import randint"
   ]
  },
  {
   "cell_type": "code",
   "execution_count": null,
   "metadata": {
    "scrolled": true
   },
   "outputs": [],
   "source": [
    "# Function to find max number of page\n",
    "def maxPageFinder(siteLink):\n",
    "    numbers = []\n",
    "    response = get(siteLink)\n",
    "    soup = BeautifulSoup(response.text, 'html.parser')\n",
    "    for s in soup.find_all('a',{\"class\":\"pagination__link\"}):\n",
    "        if s.text.isnumeric() == True:\n",
    "            pageNumber = int(s.text)\n",
    "            numbers.append(pageNumber)\n",
    "    return max(numbers)   \n",
    "    \n",
    "# Scraping the html content of listing banners\n",
    "banners = []\n",
    "site = 'https://www.pararius.com/apartments/rotterdam'\n",
    "page = 0\n",
    "while page <= maxPageFinder(site):\n",
    "    url = site + '/page-' + str(page)\n",
    "    response = get(url)\n",
    "    soup = BeautifulSoup(response.text, 'html.parser')\n",
    "    bannerInfo = soup.find_all('li', class_=\"search-list__item search-list__item--listing\")\n",
    "    if bannerInfo != []:\n",
    "        banners.extend(bannerInfo)\n",
    "    time.sleep(0.5)\n",
    "    page += 1\n",
    "\n",
    "# Building dataframe\n",
    "prices = []\n",
    "agencies = []\n",
    "postcodes = []\n",
    "rooms = []\n",
    "surfaces = []\n",
    "labels = []\n",
    "interiors = []\n",
    "buildPeriods = []\n",
    "\n",
    "for block in banners:\n",
    "\n",
    "    label = block.find_all('a', href = True)[1].text    \n",
    "    labels.append(label)\n",
    "    labelDF = (\n",
    "        pd.DataFrame({'label':labels})\n",
    "        ['label'].str.split(n = 1, expand = True)\n",
    "        .rename(columns={0: \"type\", 1: \"address\"})\n",
    "    )\n",
    "    labelDF['address'] = labelDF['address'].str.split(\"\\n\").str[0]\n",
    "\n",
    "    price = block.find_all('div',{\"class\":\"listing-search-item__price\"})[0].text\n",
    "    prices.append(price)\n",
    "    priceDF = pd.DataFrame({'price':prices})\n",
    "    priceDF['price'] = priceDF['price'].replace(r'\\D+', \"\",regex=True)\n",
    "    \n",
    "    \n",
    "    agency = block.find_all('a', href=True)[2].text  \n",
    "    agencies.append(agency)\n",
    "    agencyDF = pd.DataFrame({'agency':agencies})\n",
    "    \n",
    "    postcode = block.find('div',{\"class\":\"listing-search-item__sub-title\"}).text\n",
    "    postcodes.append(postcode)\n",
    "    postcodeDF = pd.DataFrame({'postcode':postcodes})\n",
    "    postcodeDF['postcode'] = (postcodeDF['postcode'].str.split('\\n')\n",
    "        .str[1].astype('str')\n",
    "        .replace('            ',\"\", regex = True).str[0:7]\n",
    "    )\n",
    "    \n",
    "    room = block.find_all('li',{\"class\":\"illustrated-features__item illustrated-features__item--number-of-rooms\"})[0].text\n",
    "    rooms.append(room)\n",
    "    roomDF = pd.DataFrame({'rooms':rooms})\n",
    "    roomDF['rooms'] = roomDF['rooms'].replace(r'\\D+', \"\",regex=True)\n",
    "    \n",
    "    surface = block.find_all('li',{\"class\":\"illustrated-features__item illustrated-features__item--surface-area\"})[0].text\n",
    "    surfaces.append(surface)\n",
    "    surfaceDF = pd.DataFrame({'surface':surfaces})\n",
    "    surfaceDF['surface'] = surfaceDF['surface'].replace(r'\\D+', \"\",regex=True)\n",
    "\n",
    "    if block.find_all('li',{\"class\":\"illustrated-features__item illustrated-features__item--interior\"}) != []:\n",
    "        interior = block.find_all('li',{\"class\":\"illustrated-features__item illustrated-features__item--interior\"})[0].text\n",
    "        interiors.append(interior)\n",
    "    else:\n",
    "        interiors.append(\"Unspecified\")\n",
    "    interiorDF = pd.DataFrame({'interior':interiors})\n",
    "\n",
    "df = pd.concat([labelDF, postcodeDF, surfaceDF, roomDF, agencyDF, interiorDF, priceDF],axis = 1)"
   ]
  },
  {
   "cell_type": "code",
   "execution_count": 88,
   "metadata": {},
   "outputs": [],
   "source": [
    "df.to_csv('housing.csv')"
   ]
  }
 ],
 "metadata": {
  "kernelspec": {
   "display_name": "Python 3.8.13 ('base')",
   "language": "python",
   "name": "python3"
  },
  "language_info": {
   "codemirror_mode": {
    "name": "ipython",
    "version": 3
   },
   "file_extension": ".py",
   "mimetype": "text/x-python",
   "name": "python",
   "nbconvert_exporter": "python",
   "pygments_lexer": "ipython3",
   "version": "3.8.13"
  },
  "vscode": {
   "interpreter": {
    "hash": "9a8845383d32d4c9013d0e6ad47b54fc2b3d3f2f4b1feaeba6d63e1594c71746"
   }
  }
 },
 "nbformat": 4,
 "nbformat_minor": 4
}
